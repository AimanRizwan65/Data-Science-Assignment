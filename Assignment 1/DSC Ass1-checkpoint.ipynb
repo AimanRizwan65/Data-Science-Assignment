{
 "cells": [
  {
   "cell_type": "code",
   "execution_count": 1,
   "id": "e90bf8b2",
   "metadata": {},
   "outputs": [
    {
     "name": "stdout",
     "output_type": "stream",
     "text": [
      "Twinkle, twinkle, little star, \n",
      "\t How I wonder what you are \n",
      "\t\t Up above the world so high,\n",
      "\t\t Like a diamond in the sky. \n",
      " Twinkle, twinkle, little star,\n",
      "\t How I wonder what you are\n"
     ]
    }
   ],
   "source": [
    "\"\"\" Q.1) Write a Python program to print the following string in a specific format (see the\n",
    "output).\n",
    "Twinkle, twinkle, little star,\n",
    "          How I wonder what you are!\n",
    "               Up above the world so high,\n",
    "               Like a diamond in the sky.\n",
    "Twinkle, twinkle, little star,\n",
    "          How I wonder what you are \"\"\"\n",
    "\n",
    "\n",
    "print(\"Twinkle, twinkle, little star, \\n\\t How I wonder what you are \\n\\t\\t Up above the world so high,\\n\\t\\t Like a diamond in the sky. \\n Twinkle, twinkle, little star,\\n\\t How I wonder what you are\")\n"
   ]
  },
  {
   "cell_type": "code",
   "execution_count": 2,
   "id": "232c4d1b",
   "metadata": {},
   "outputs": [
    {
     "name": "stdout",
     "output_type": "stream",
     "text": [
      "Python version: 3.8.8 (default, Apr 13 2021, 15:08:03) [MSC v.1916 64 bit (AMD64)]\n"
     ]
    }
   ],
   "source": [
    "# Q.2) Write a Python program to get the Python version you are using\n",
    "\n",
    "import sys\n",
    "print(\"Python version:\" , sys.version )\n"
   ]
  },
  {
   "cell_type": "code",
   "execution_count": 3,
   "id": "2d4060c5",
   "metadata": {},
   "outputs": [
    {
     "name": "stdout",
     "output_type": "stream",
     "text": [
      "2022-01-01 03:16:07.635382\n"
     ]
    }
   ],
   "source": [
    "# Q.3) Write a Python program to display the current date and time.\n",
    "\n",
    "\n",
    "import datetime\n",
    "\n",
    "x = datetime.datetime.now()\n",
    "print(x)"
   ]
  },
  {
   "cell_type": "code",
   "execution_count": 5,
   "id": "66f38dd0",
   "metadata": {},
   "outputs": [
    {
     "name": "stdout",
     "output_type": "stream",
     "text": [
      "Enter Radius Of a circle:4\n",
      "Area of a circle is 50.26548245743669\n"
     ]
    }
   ],
   "source": [
    "\"\"\" Q.4) Write a Python program which accepts the radius of a circle from the user and compute\n",
    "the area. \"\"\"\n",
    "\n",
    "import math\n",
    "rad = int(input(\"Enter Radius Of a circle:\"));\n",
    "area = math.pi*rad**2\n",
    "print(\"Area of a circle is \" + str(area))"
   ]
  },
  {
   "cell_type": "code",
   "execution_count": 6,
   "id": "3f60c93e",
   "metadata": {},
   "outputs": [
    {
     "name": "stdout",
     "output_type": "stream",
     "text": [
      "First Name: aiman\n",
      "Last Name: rizwan\n",
      "rizwan aiman\n"
     ]
    }
   ],
   "source": [
    "\"\"\" Q.5) Write a Python program which accepts the user's first and last name and print them in\n",
    "reverse order with a space between them.\"\"\"\n",
    "\n",
    "\n",
    "firstname = input(\"First Name: \");\n",
    "lastname = input(\"Last Name: \");\n",
    "print (lastname + \" \" + firstname)"
   ]
  },
  {
   "cell_type": "code",
   "execution_count": 7,
   "id": "7f8d88e0",
   "metadata": {},
   "outputs": [
    {
     "name": "stdout",
     "output_type": "stream",
     "text": [
      "Enter First Number: 34\n",
      "Enter Second Number: 78\n",
      "Sum:112\n"
     ]
    }
   ],
   "source": [
    "# Q.6) Write a python program which takes two inputs from user and print them addition \n",
    "\n",
    "\n",
    "a = int(input(\"Enter First Number: \"));\n",
    "b = int(input(\"Enter Second Number: \"));\n",
    "sum = a + b;\n",
    "print(\"Sum:\"+ str(sum))"
   ]
  },
  {
   "cell_type": "code",
   "execution_count": null,
   "id": "9e8d1043",
   "metadata": {},
   "outputs": [],
   "source": []
  }
 ],
 "metadata": {
  "kernelspec": {
   "display_name": "Python 3",
   "language": "python",
   "name": "python3"
  },
  "language_info": {
   "codemirror_mode": {
    "name": "ipython",
    "version": 3
   },
   "file_extension": ".py",
   "mimetype": "text/x-python",
   "name": "python",
   "nbconvert_exporter": "python",
   "pygments_lexer": "ipython3",
   "version": "3.8.8"
  }
 },
 "nbformat": 4,
 "nbformat_minor": 5
}
